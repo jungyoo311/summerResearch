{
 "cells": [
  {
   "cell_type": "code",
   "execution_count": 57,
   "metadata": {},
   "outputs": [],
   "source": [
    "import pandas as pd\n",
    "import requests\n",
    "import time, random\n",
    "# import seaborn as sns\n",
    "# import matplotlib.pyplot as plt\n",
    "\n",
    "FIPS_state_code={\n",
    "    # \"01\": 'AL',\n",
    "    # \"02\": \"AK\",\n",
    "    \"04\": \"AZ\",\n",
    "    # \"05\": \"AR\",\n",
    "    # \"06\": \"CA\",\n",
    "    # \"08\":'CO', \n",
    "    # \"08\":'CT',\n",
    "    # \"10\":'DE', \n",
    "    # \"12\":'FL', \n",
    "    # \"13\":'GA',\n",
    "    # \"15\":'HI', \n",
    "    # \"16\":'ID', \n",
    "    # \"17\":'IL', \n",
    "    # \"18\":'IN', \n",
    "    # \"19\":'IA', \n",
    "    # \"20\":'KS', \n",
    "    # \"21\":'KY', \n",
    "    # \"22\":'LA', \n",
    "    # \"23\":'ME', \n",
    "    # \"24\":'MD',\n",
    "    # \"25\":'MA', \n",
    "    # \"26\":'MI', \n",
    "    # \"27\":'MN', \n",
    "    # \"28\":'MS', \n",
    "    # \"29\":'MO', \n",
    "    # \"30\":'MT', \n",
    "    # \"31\":'NE', \n",
    "    # \"32\":'NV', \n",
    "    # \"33\":'NH', \n",
    "    # \"34\":'NJ',\n",
    "    # \"35\":'NM', \n",
    "    # \"36\":'NY', \n",
    "    # \"37\":'NC', \n",
    "    # \"38\":'ND', \n",
    "    # \"39\":'OH', \n",
    "    # \"40\":'OK', \n",
    "    # \"41\":'OR', \n",
    "    # \"43\":'PA', \n",
    "    # \"44\":'RI', \n",
    "    # \"45\":'SC',\n",
    "    # \"46\":'SD', \n",
    "    # \"47\":'TN', \n",
    "    # \"48\":'TX', \n",
    "    # \"49\":'UT', \n",
    "    # \"50\":'VT', \n",
    "    # \"51\":'VA', \n",
    "    # \"53\":'WA', \n",
    "    # \"54\":'WV', \n",
    "    # \"55\":'WI', \n",
    "    # \"56\":'WY',\n",
    "    # \"11\":\"DISTRICT OF COLUMBIA\"\n",
    "}\n",
    "'''\n",
    "https://aqs.epa.gov/data/api/dailyData/byState?email=jeongmy@uci.edu&key=mauvecat83\n",
    "&param=42602\n",
    "&bdate=20060101\n",
    "&edate=20241120\n",
    "&state=04\n",
    "'''\n",
    "\n",
    "'''\n",
    "https://aqs.epa.gov/data/api/dailyData/byState?email=test@aqs.api&key=test&param=45201&bdate=19950515&edate=19950515&state=37\n",
    "'''\n",
    "\"\"\n",
    "AQI_parm = {\n",
    "    \"NO2\": \"42602\",\n",
    "    # \"SO2\":\"42401\",\n",
    "    # \"PM10_atm\":\"81101\",\n",
    "    # \"PM2_5_atm\":\"88101\",\n",
    "}\n",
    "bdate=\"20060101\"\n",
    "edate=\"20061231\"\n",
    "# bdate=\"20160101\"\n",
    "# edate=\"20161231\"\n",
    "email = \"test@aqs.api\"\n",
    "key = \"test\"\n",
    "# email = \"jeongmy@uci.edu\"\n",
    "# key = \"mauvecat83\"\n"
   ]
  },
  {
   "cell_type": "code",
   "execution_count": 58,
   "metadata": {},
   "outputs": [
    {
     "name": "stdout",
     "output_type": "stream",
     "text": [
      "DONE: 2006 state: AZ, param:NO2\n"
     ]
    }
   ],
   "source": [
    "all_data = pd.DataFrame()\n",
    "\n",
    "for state_code, state_abbr in FIPS_state_code.items():\n",
    "    # print(\"state_code\",state_code)\n",
    "    for param, param_code in AQI_parm.items():\n",
    "        for year in range(2006, 2007):\n",
    "            bdate = f\"{year}0101\"\n",
    "            edate = f\"{year}0131\"\n",
    "            url = f\"https://aqs.epa.gov/data/api/dailyData/byState?email={email}&key={key}&param={param_code}&bdate={bdate}&edate={edate}&state={state_code}\"\n",
    "            response = requests.get(url)\n",
    "\n",
    "            #check if request was successful\n",
    "            if response.status_code == 200:\n",
    "                data = response.json()\n",
    "                if 'Data' in data :\n",
    "                    #convert to Dataframe and append to all_data\n",
    "                    temp = pd.DataFrame(data['Data'])\n",
    "                    temp['state'] = state_abbr\n",
    "                    temp['param_name'] = param\n",
    "                    all_data = pd.concat([all_data, temp], ignore_index=True)\n",
    "                    print(f\"DONE: {year} state: {state_abbr}, param:{param}\")\n",
    "                    sleep_time = random.randint(1,13)\n",
    "                    time.sleep(sleep_time)\n",
    "            else:\n",
    "                print(f\"Failed to fetch data for year: {year} state: {state_abbr}, param:{param}\")\n",
    "            sleep_time = random.randint(2,5)\n",
    "            time.sleep(sleep_time)\n",
    "\n",
    "\n"
   ]
  },
  {
   "cell_type": "code",
   "execution_count": 59,
   "metadata": {},
   "outputs": [
    {
     "name": "stdout",
     "output_type": "stream",
     "text": [
      "Data Collection complete and saved.\n"
     ]
    }
   ],
   "source": [
    "all_data.to_csv(\"aqi_data.csv\", index=True)\n",
    "print(\"Data Collection complete and saved.\")\n"
   ]
  },
  {
   "cell_type": "code",
   "execution_count": null,
   "metadata": {},
   "outputs": [],
   "source": []
  }
 ],
 "metadata": {
  "kernelspec": {
   "display_name": "myenv",
   "language": "python",
   "name": "python3"
  },
  "language_info": {
   "codemirror_mode": {
    "name": "ipython",
    "version": 3
   },
   "file_extension": ".py",
   "mimetype": "text/x-python",
   "name": "python",
   "nbconvert_exporter": "python",
   "pygments_lexer": "ipython3",
   "version": "3.10.15"
  }
 },
 "nbformat": 4,
 "nbformat_minor": 2
}
